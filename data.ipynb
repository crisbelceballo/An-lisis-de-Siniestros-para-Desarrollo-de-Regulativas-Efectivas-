{
 "cells": [
  {
   "cell_type": "code",
   "execution_count": 2,
   "metadata": {},
   "outputs": [],
   "source": [
    "import pandas as pd\n",
    "import pandas as pd\n",
    "import numpy as np"
   ]
  },
  {
   "cell_type": "code",
   "execution_count": 3,
   "metadata": {},
   "outputs": [],
   "source": [
    "#Cargar los archivos xlsx en el proyecto\n",
    "file1 =\"Composicion de Cartera de clientes de Auto.xlsx\"\n",
    "file2 = \"Historico Auto y Caracteristicas de Vehiculo.xlsx\"\n",
    "file3 = \"Historico de Siniestros.xlsx\""
   ]
  },
  {
   "cell_type": "code",
   "execution_count": 4,
   "metadata": {},
   "outputs": [],
   "source": [
    "#Crear variables para cada archivos\n",
    "sheet1 = pd.read_excel(file1, sheet_name=0)\n",
    "sheet2 = pd.read_excel(file2, sheet_name=0)\n",
    "sheet3 = pd.read_excel(file3, sheet_name=0)"
   ]
  },
  {
   "cell_type": "code",
   "execution_count": 5,
   "metadata": {},
   "outputs": [],
   "source": [
    "#Unir el primer y segundo documento de xls\n",
    "merged_df = pd.merge(sheet1, sheet2, on=\"CD_PERSONA v2\", how='inner')"
   ]
  },
  {
   "cell_type": "code",
   "execution_count": 6,
   "metadata": {},
   "outputs": [],
   "source": [
    "#Unir la ultima hoja de calculo con las anteriores\n",
    "merged_df = pd.merge(merged_df, sheet3, on='CD_PERSONA v2', how='inner')"
   ]
  },
  {
   "cell_type": "code",
   "execution_count": 7,
   "metadata": {},
   "outputs": [],
   "source": [
    "#Eliminar columnas duplicadas\n",
    "merged_df = merged_df.loc[:, ~merged_df.columns.duplicated()]"
   ]
  },
  {
   "cell_type": "code",
   "execution_count": 8,
   "metadata": {},
   "outputs": [],
   "source": [
    "#Eliminar filas duplicadas\n",
    "merged_df = merged_df.drop_duplicates()\n"
   ]
  },
  {
   "cell_type": "code",
   "execution_count": 9,
   "metadata": {},
   "outputs": [],
   "source": [
    "#Cuando algun dato se duplique en IDSINIESTRO eliminar una de las celdas duplicadas \n",
    "merged_df = merged_df.drop_duplicates(subset='ID _ SINIESTRO')"
   ]
  },
  {
   "cell_type": "code",
   "execution_count": 10,
   "metadata": {},
   "outputs": [],
   "source": [
    "# Eliminar la columna 'Poliza Id v2_y'\n",
    "if 'Poliza Id v2_y' in merged_df.columns:\n",
    "    merged_df = merged_df.drop(columns=['Poliza Id v2_y'])"
   ]
  },
  {
   "cell_type": "code",
   "execution_count": 11,
   "metadata": {},
   "outputs": [],
   "source": [
    "#Eliminar la columna 'CD_ESTADO_CIVIL'\n",
    "if 'CD_ESTADO_CIVIL' in merged_df.columns:\n",
    "    merged_df = merged_df.drop(columns=['CD_ESTADO_CIVIL'])"
   ]
  },
  {
   "cell_type": "code",
   "execution_count": 12,
   "metadata": {},
   "outputs": [],
   "source": [
    "#Eliminar la columna Tiempo desde registro (meses)\n",
    "if 'Tiempo desde registro (meses)' in merged_df.columns:\n",
    "    merged_df = merged_df.drop(columns=['Tiempo desde registro (meses)'])"
   ]
  },
  {
   "cell_type": "code",
   "execution_count": 13,
   "metadata": {},
   "outputs": [],
   "source": [
    "#Eliminar columna CD_NACIONALIDAD \n",
    "if 'CD_NACIONALIDAD' in merged_df.columns:\n",
    "    merged_df = merged_df.drop(columns=['CD_NACIONALIDAD'])"
   ]
  },
  {
   "cell_type": "code",
   "execution_count": 14,
   "metadata": {},
   "outputs": [
    {
     "data": {
      "text/html": [
       "<div>\n",
       "<style scoped>\n",
       "    .dataframe tbody tr th:only-of-type {\n",
       "        vertical-align: middle;\n",
       "    }\n",
       "\n",
       "    .dataframe tbody tr th {\n",
       "        vertical-align: top;\n",
       "    }\n",
       "\n",
       "    .dataframe thead th {\n",
       "        text-align: right;\n",
       "    }\n",
       "</style>\n",
       "<table border=\"1\" class=\"dataframe\">\n",
       "  <thead>\n",
       "    <tr style=\"text-align: right;\">\n",
       "      <th></th>\n",
       "      <th>HORA_SINIESTRO</th>\n",
       "    </tr>\n",
       "  </thead>\n",
       "  <tbody>\n",
       "  </tbody>\n",
       "</table>\n",
       "</div>"
      ],
      "text/plain": [
       "Empty DataFrame\n",
       "Columns: [HORA_SINIESTRO]\n",
       "Index: []"
      ]
     },
     "execution_count": 14,
     "metadata": {},
     "output_type": "execute_result"
    }
   ],
   "source": [
    "#Modificar la tabla Hora Siniestro para que todas las celdas tengan el mismo formato \n",
    "invalid_times = merged_df['HORA_SINIESTRO'].isna()\n",
    "invalid_rows = merged_df[invalid_times]\n",
    "invalid_rows[['HORA_SINIESTRO']]"
   ]
  },
  {
   "cell_type": "code",
   "execution_count": 15,
   "metadata": {},
   "outputs": [],
   "source": [
    "merged_df = merged_df.drop_duplicates(subset=['CD_PERSONA v2', 'FE_OCURRENCIA', 'DE_LUGAR_OCURRENCIA'], keep='last')"
   ]
  },
  {
   "cell_type": "code",
   "execution_count": 16,
   "metadata": {},
   "outputs": [],
   "source": [
    "# Asegurarse de que la columna Fecha_Ocurrencia sea de tipo datetime\n",
    "merged_df['FE_OCURRENCIA'] = pd.to_datetime(merged_df['FE_OCURRENCIA'])\n",
    "\n",
    "# Crear una nueva columna que contenga solo el mes\n",
    "merged_df['Mes_Ocurrencia'] = merged_df['FE_OCURRENCIA'].dt.month\n",
    "\n",
    "# Crear una nueva columna que contenga solo el día\n",
    "merged_df['Dia_Ocurrencia'] = merged_df['FE_OCURRENCIA'].dt.day\n"
   ]
  },
  {
   "cell_type": "code",
   "execution_count": 17,
   "metadata": {},
   "outputs": [
    {
     "name": "stdout",
     "output_type": "stream",
     "text": [
      "Valores faltantes por columna:\n",
      "CD_PERSONA v2             0\n",
      "CD_SEXO                5682\n",
      "Rango de Edad             0\n",
      "De_Sector                 0\n",
      "DE_ACTIVIDAD              0\n",
      "Poliza Id v2_x            0\n",
      "TIPO_VEHICULO             0\n",
      "Color                     0\n",
      "Marca                     0\n",
      "Modelo                    0\n",
      "Año                       0\n",
      "Tipo Transmision          5\n",
      "ID _ SINIESTRO            0\n",
      "FE_OCURRENCIA             0\n",
      "DE_LUGAR_OCURRENCIA     188\n",
      "De_Causa_Detalle          0\n",
      "EVENTO_CATASTROFICO       0\n",
      "DE_CIUDAD                 0\n",
      "DE_PROVINCIA              0\n",
      "HORA_SINIESTRO            0\n",
      "Mes_Ocurrencia            0\n",
      "Dia_Ocurrencia            0\n",
      "dtype: int64\n"
     ]
    }
   ],
   "source": [
    "#identificar valores faltantes\n",
    "missing_values = merged_df.isnull().sum()\n",
    "print(\"Valores faltantes por columna:\")\n",
    "print(missing_values)"
   ]
  },
  {
   "cell_type": "code",
   "execution_count": 18,
   "metadata": {},
   "outputs": [],
   "source": [
    "#Imputar valores categoricas\n",
    "merged_df['CD_SEXO'] = merged_df['CD_SEXO'].fillna(merged_df['CD_SEXO'].mode()[0])\n",
    "\n",
    "#Imputar valores \n",
    "merged_df['DE_LUGAR_OCURRENCIA'] = merged_df['DE_LUGAR_OCURRENCIA'].fillna(merged_df['DE_LUGAR_OCURRENCIA'].mode()[0])\n",
    "\n",
    "#Imputar valores \n",
    "merged_df['Tipo Transmision'] = merged_df['Tipo Transmision'].fillna(merged_df['Tipo Transmision'].mode()[0])"
   ]
  },
  {
   "cell_type": "code",
   "execution_count": 19,
   "metadata": {},
   "outputs": [
    {
     "name": "stdout",
     "output_type": "stream",
     "text": [
      "Valores faltantes por columna:\n",
      "CD_PERSONA v2          0\n",
      "CD_SEXO                0\n",
      "Rango de Edad          0\n",
      "De_Sector              0\n",
      "DE_ACTIVIDAD           0\n",
      "Poliza Id v2_x         0\n",
      "TIPO_VEHICULO          0\n",
      "Color                  0\n",
      "Marca                  0\n",
      "Modelo                 0\n",
      "Año                    0\n",
      "Tipo Transmision       0\n",
      "ID _ SINIESTRO         0\n",
      "FE_OCURRENCIA          0\n",
      "DE_LUGAR_OCURRENCIA    0\n",
      "De_Causa_Detalle       0\n",
      "EVENTO_CATASTROFICO    0\n",
      "DE_CIUDAD              0\n",
      "DE_PROVINCIA           0\n",
      "HORA_SINIESTRO         0\n",
      "Mes_Ocurrencia         0\n",
      "Dia_Ocurrencia         0\n",
      "dtype: int64\n"
     ]
    }
   ],
   "source": [
    "#identificar valores faltantes\n",
    "missing_values = merged_df.isnull().sum()\n",
    "print(\"Valores faltantes por columna:\")\n",
    "print(missing_values)"
   ]
  },
  {
   "cell_type": "code",
   "execution_count": 20,
   "metadata": {},
   "outputs": [],
   "source": [
    "#Modificar rango de edad \n",
    "if 'Rango de Edad' in merged_df.columns:\n",
    "   merged_df['Rango de Edad'] = merged_df['Rango de Edad'].str.replace(r'^\\d+- Rango ', '', regex=True)"
   ]
  },
  {
   "cell_type": "code",
   "execution_count": 21,
   "metadata": {},
   "outputs": [
    {
     "name": "stdout",
     "output_type": "stream",
     "text": [
      "El DataFrame unido se ha guardado en 'data_siniestro.xlsx'\n"
     ]
    }
   ],
   "source": [
    "merged_df.to_excel('data_siniestro.xlsx', index=False)\n",
    "print(\"El DataFrame unido se ha guardado en 'data_siniestro.xlsx'\")"
   ]
  }
 ],
 "metadata": {
  "kernelspec": {
   "display_name": "Python 3",
   "language": "python",
   "name": "python3"
  },
  "language_info": {
   "codemirror_mode": {
    "name": "ipython",
    "version": 3
   },
   "file_extension": ".py",
   "mimetype": "text/x-python",
   "name": "python",
   "nbconvert_exporter": "python",
   "pygments_lexer": "ipython3",
   "version": "3.12.4"
  }
 },
 "nbformat": 4,
 "nbformat_minor": 2
}
